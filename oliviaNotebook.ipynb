{
 "cells": [
  {
   "cell_type": "code",
   "execution_count": 152,
   "metadata": {},
   "outputs": [],
   "source": [
    "import pandas as pd\n",
    "import numpy as np\n",
    "%matplotlib inline\n",
    "import matplotlib.pyplot as plt"
   ]
  },
  {
   "cell_type": "code",
   "execution_count": 153,
   "metadata": {},
   "outputs": [],
   "source": [
    "overdoses = pd.read_csv(\"FatalOverdoses.csv\")"
   ]
  },
  {
   "cell_type": "code",
   "execution_count": 154,
   "metadata": {},
   "outputs": [
    {
     "data": {
      "text/html": [
       "<div>\n",
       "<style scoped>\n",
       "    .dataframe tbody tr th:only-of-type {\n",
       "        vertical-align: middle;\n",
       "    }\n",
       "\n",
       "    .dataframe tbody tr th {\n",
       "        vertical-align: top;\n",
       "    }\n",
       "\n",
       "    .dataframe thead th {\n",
       "        text-align: right;\n",
       "    }\n",
       "</style>\n",
       "<table border=\"1\" class=\"dataframe\">\n",
       "  <thead>\n",
       "    <tr style=\"text-align: right;\">\n",
       "      <th></th>\n",
       "      <th>death_date_and_time</th>\n",
       "      <th>manner_of_death</th>\n",
       "      <th>age</th>\n",
       "      <th>sex</th>\n",
       "      <th>race</th>\n",
       "      <th>case_dispo</th>\n",
       "      <th>combined_od1</th>\n",
       "      <th>combined_od2</th>\n",
       "      <th>combined_od3</th>\n",
       "      <th>combined_od4</th>\n",
       "      <th>combined_od5</th>\n",
       "      <th>combined_od6</th>\n",
       "      <th>combined_od7</th>\n",
       "      <th>combined_od8</th>\n",
       "      <th>combined_od9</th>\n",
       "      <th>combined_od10</th>\n",
       "      <th>incident_zip</th>\n",
       "      <th>decedent_zip</th>\n",
       "      <th>case_year</th>\n",
       "    </tr>\n",
       "  </thead>\n",
       "  <tbody>\n",
       "    <tr>\n",
       "      <th>0</th>\n",
       "      <td>2021-03-29T16:02:00</td>\n",
       "      <td>Accident</td>\n",
       "      <td>41</td>\n",
       "      <td>F</td>\n",
       "      <td>W</td>\n",
       "      <td>MO</td>\n",
       "      <td>Heroin</td>\n",
       "      <td>Fentanyl</td>\n",
       "      <td>Acetyl Fentanyl</td>\n",
       "      <td>Oxycodone</td>\n",
       "      <td>Phenobarbital</td>\n",
       "      <td>Etizolam</td>\n",
       "      <td>Trazodone</td>\n",
       "      <td>Clonazepam</td>\n",
       "      <td>Acetaminophen</td>\n",
       "      <td>NaN</td>\n",
       "      <td>15110</td>\n",
       "      <td>NaN</td>\n",
       "      <td>2021</td>\n",
       "    </tr>\n",
       "    <tr>\n",
       "      <th>1</th>\n",
       "      <td>2018-06-20T18:14:00</td>\n",
       "      <td>Accident</td>\n",
       "      <td>50</td>\n",
       "      <td>F</td>\n",
       "      <td>W</td>\n",
       "      <td>MO</td>\n",
       "      <td>Alcohol</td>\n",
       "      <td>Carfentanil</td>\n",
       "      <td>Citalopram/Escitalopram</td>\n",
       "      <td>Clonazepam</td>\n",
       "      <td>Cocaine</td>\n",
       "      <td>Diphenhydramine</td>\n",
       "      <td>Methadone</td>\n",
       "      <td>Mirtazapine</td>\n",
       "      <td>Para-FluoroisobutyrylFentanyl</td>\n",
       "      <td>NaN</td>\n",
       "      <td>15235</td>\n",
       "      <td>NaN</td>\n",
       "      <td>2018</td>\n",
       "    </tr>\n",
       "    <tr>\n",
       "      <th>2</th>\n",
       "      <td>2018-04-23T20:34:00</td>\n",
       "      <td>Accident</td>\n",
       "      <td>40</td>\n",
       "      <td>M</td>\n",
       "      <td>W</td>\n",
       "      <td>MO</td>\n",
       "      <td>Cocaine</td>\n",
       "      <td>Despropionyl Fentanyl 4-ANPP</td>\n",
       "      <td>Fentanyl</td>\n",
       "      <td>Heroin</td>\n",
       "      <td>Methadone</td>\n",
       "      <td>Methoxyacetyl Fentanyl</td>\n",
       "      <td>Nordiazepam</td>\n",
       "      <td>Para-FluoroisobutyrylFentanyl</td>\n",
       "      <td>Phenobarbital</td>\n",
       "      <td>NaN</td>\n",
       "      <td>15209</td>\n",
       "      <td>NaN</td>\n",
       "      <td>2018</td>\n",
       "    </tr>\n",
       "    <tr>\n",
       "      <th>3</th>\n",
       "      <td>2018-01-24T13:47:00</td>\n",
       "      <td>Accident</td>\n",
       "      <td>48</td>\n",
       "      <td>F</td>\n",
       "      <td>W</td>\n",
       "      <td>MO</td>\n",
       "      <td>Acetaminophen</td>\n",
       "      <td>Alcohol</td>\n",
       "      <td>Butalbital</td>\n",
       "      <td>Cyclobenzaprine</td>\n",
       "      <td>Despropionyl Fentanyl 4-ANPP</td>\n",
       "      <td>Dextromethorphan</td>\n",
       "      <td>Fentanyl</td>\n",
       "      <td>Hydrocodone</td>\n",
       "      <td>Tramadol</td>\n",
       "      <td>NaN</td>\n",
       "      <td>15227</td>\n",
       "      <td>NaN</td>\n",
       "      <td>2018</td>\n",
       "    </tr>\n",
       "    <tr>\n",
       "      <th>4</th>\n",
       "      <td>2017-04-18T13:37:00</td>\n",
       "      <td>Accident</td>\n",
       "      <td>54</td>\n",
       "      <td>M</td>\n",
       "      <td>W</td>\n",
       "      <td>MO</td>\n",
       "      <td>Carfentanil</td>\n",
       "      <td>Chlordiazepoxide</td>\n",
       "      <td>Diazepam</td>\n",
       "      <td>Fentanyl</td>\n",
       "      <td>Heroin</td>\n",
       "      <td>Oxazepam</td>\n",
       "      <td>Para-Fluorobutyryl Fentanyl/FIBF</td>\n",
       "      <td>Temazepam</td>\n",
       "      <td>Tramadol</td>\n",
       "      <td>NaN</td>\n",
       "      <td>15221</td>\n",
       "      <td>NaN</td>\n",
       "      <td>2017</td>\n",
       "    </tr>\n",
       "  </tbody>\n",
       "</table>\n",
       "</div>"
      ],
      "text/plain": [
       "   death_date_and_time manner_of_death  age sex race case_dispo  \\\n",
       "0  2021-03-29T16:02:00        Accident   41   F    W         MO   \n",
       "1  2018-06-20T18:14:00        Accident   50   F    W         MO   \n",
       "2  2018-04-23T20:34:00        Accident   40   M    W         MO   \n",
       "3  2018-01-24T13:47:00        Accident   48   F    W         MO   \n",
       "4  2017-04-18T13:37:00        Accident   54   M    W         MO   \n",
       "\n",
       "    combined_od1                  combined_od2             combined_od3  \\\n",
       "0         Heroin                      Fentanyl          Acetyl Fentanyl   \n",
       "1        Alcohol                   Carfentanil  Citalopram/Escitalopram   \n",
       "2        Cocaine  Despropionyl Fentanyl 4-ANPP                 Fentanyl   \n",
       "3  Acetaminophen                       Alcohol               Butalbital   \n",
       "4    Carfentanil              Chlordiazepoxide                 Diazepam   \n",
       "\n",
       "      combined_od4                  combined_od5            combined_od6  \\\n",
       "0        Oxycodone                 Phenobarbital                Etizolam   \n",
       "1       Clonazepam                       Cocaine         Diphenhydramine   \n",
       "2           Heroin                     Methadone  Methoxyacetyl Fentanyl   \n",
       "3  Cyclobenzaprine  Despropionyl Fentanyl 4-ANPP        Dextromethorphan   \n",
       "4         Fentanyl                        Heroin                Oxazepam   \n",
       "\n",
       "                       combined_od7                   combined_od8  \\\n",
       "0                         Trazodone                     Clonazepam   \n",
       "1                         Methadone                    Mirtazapine   \n",
       "2                       Nordiazepam  Para-FluoroisobutyrylFentanyl   \n",
       "3                          Fentanyl                    Hydrocodone   \n",
       "4  Para-Fluorobutyryl Fentanyl/FIBF                      Temazepam   \n",
       "\n",
       "                    combined_od9  combined_od10 incident_zip  decedent_zip  \\\n",
       "0                  Acetaminophen            NaN        15110           NaN   \n",
       "1  Para-FluoroisobutyrylFentanyl            NaN        15235           NaN   \n",
       "2                  Phenobarbital            NaN        15209           NaN   \n",
       "3                       Tramadol            NaN        15227           NaN   \n",
       "4                       Tramadol            NaN        15221           NaN   \n",
       "\n",
       "   case_year  \n",
       "0       2021  \n",
       "1       2018  \n",
       "2       2018  \n",
       "3       2018  \n",
       "4       2017  "
      ]
     },
     "execution_count": 154,
     "metadata": {},
     "output_type": "execute_result"
    }
   ],
   "source": [
    "overdoses.head()"
   ]
  },
  {
   "cell_type": "code",
   "execution_count": 155,
   "metadata": {},
   "outputs": [],
   "source": [
    "overdoses1 = overdoses.groupby(\"case_year\").count()"
   ]
  },
  {
   "cell_type": "code",
   "execution_count": 156,
   "metadata": {},
   "outputs": [
    {
     "data": {
      "text/plain": [
       "<matplotlib.axes._subplots.AxesSubplot at 0x7f402f297e50>"
      ]
     },
     "execution_count": 156,
     "metadata": {},
     "output_type": "execute_result"
    },
    {
     "data": {
      "image/png": "[encoded data removed]",
      "text/plain": [
       "<Figure size 432x288 with 1 Axes>"
      ]
     },
     "metadata": {
      "needs_background": "light"
     },
     "output_type": "display_data"
    }
   ],
   "source": [
    "overdoses1[\"death_date_and_time\"].plot()"
   ]
  },
  {
   "cell_type": "code",
   "execution_count": 157,
   "metadata": {},
   "outputs": [
    {
     "data": {
      "text/plain": [
       "<matplotlib.axes._subplots.AxesSubplot at 0x7f402f4a43d0>"
      ]
     },
     "execution_count": 157,
     "metadata": {},
     "output_type": "execute_result"
    },
    {
     "data": {
      "image/png": "[encoded data removed]",
      "text/plain": [
       "<Figure size 432x288 with 1 Axes>"
      ]
     },
     "metadata": {
      "needs_background": "light"
     },
     "output_type": "display_data"
    }
   ],
   "source": [
    "overdoses1[\"death_date_and_time\"].cumsum().plot()"
   ]
  },
  {
   "cell_type": "code",
   "execution_count": 158,
   "metadata": {},
   "outputs": [],
   "source": [
    "overdoses1 = overdoses.groupby(\"incident_zip\").count()\n",
    "overdoses2 = overdoses1.filter(like = '151', axis = 0)\n",
    "overdoses3 = overdoses1.filter(like = '152', axis = 0)\n",
    "overdoses4 = overdoses1.filter(like = '153', axis = 0)\n",
    "overdoses5 = overdoses2.append(overdoses3).append(overdoses4)"
   ]
  },
  {
   "cell_type": "code",
   "execution_count": 159,
   "metadata": {},
   "outputs": [
    {
     "data": {
      "text/plain": [
       "<matplotlib.axes._subplots.AxesSubplot at 0x7f402f1205b0>"
      ]
     },
     "execution_count": 159,
     "metadata": {},
     "output_type": "execute_result"
    },
    {
     "data": {
      "image/png": "[encoded data removed]",
      "text/plain": [
       "<Figure size 432x288 with 1 Axes>"
      ]
     },
     "metadata": {
      "needs_background": "light"
     },
     "output_type": "display_data"
    }
   ],
   "source": [
    "overdoses = overdoses5.iloc[0:, :1]\n",
    "overdoses1 = overdoses[overdoses.death_date_and_time > 20]\n",
    "overdoses1.plot()"
   ]
  },
  {
   "cell_type": "markdown",
   "metadata": {},
   "source": [
    "will then find zip"
   ]
  },
  {
   "cell_type": "code",
   "execution_count": null,
   "metadata": {},
   "outputs": [],
   "source": []
  }
 ],
 "metadata": {
  "kernelspec": {
   "display_name": "Python 3",
   "language": "python",
   "name": "python3"
  },
  "language_info": {
   "codemirror_mode": {
    "name": "ipython",
    "version": 3
   },
   "file_extension": ".py",
   "mimetype": "text/x-python",
   "name": "python",
   "nbconvert_exporter": "python",
   "pygments_lexer": "ipython3",
   "version": "3.8.3"
  }
 },
 "nbformat": 4,
 "nbformat_minor": 4
}
